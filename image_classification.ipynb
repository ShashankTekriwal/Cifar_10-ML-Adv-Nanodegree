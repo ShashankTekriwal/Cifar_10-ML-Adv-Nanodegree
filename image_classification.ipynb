{
 "cells": [
  {
   "cell_type": "markdown",
   "metadata": {
    "collapsed": true
   },
   "source": [
    "# Image Classification\n",
    "In this project, you'll classify images from the [CIFAR-10 dataset](https://www.cs.toronto.edu/~kriz/cifar.html).  The dataset consists of airplanes, dogs, cats, and other objects. You'll preprocess the images, then train a convolutional neural network on all the samples. The images need to be normalized and the labels need to be one-hot encoded.  You'll get to apply what you learned and build a convolutional, max pooling, dropout, and fully connected layers.  At the end, you'll get to see your neural network's predictions on the sample images.\n",
    "## Get the Data\n",
    "Run the following cell to download the [CIFAR-10 dataset for python](https://www.cs.toronto.edu/~kriz/cifar-10-python.tar.gz)."
   ]
  },
  {
   "cell_type": "code",
   "execution_count": 2,
   "metadata": {},
   "outputs": [
    {
     "name": "stdout",
     "output_type": "stream",
     "text": [
      "All files found!\n"
     ]
    }
   ],
   "source": [
    "\"\"\"\n",
    "DON'T MODIFY ANYTHING IN THIS CELL THAT IS BELOW THIS LINE\n",
    "\"\"\"\n",
    "from urllib.request import urlretrieve\n",
    "from os.path import isfile, isdir\n",
    "from tqdm import tqdm\n",
    "import problem_unittests as tests\n",
    "import tarfile\n",
    "\n",
    "cifar10_dataset_folder_path = 'cifar-10-batches-py'\n",
    "\n",
    "class DLProgress(tqdm):\n",
    "    last_block = 0\n",
    "\n",
    "    def hook(self, block_num=1, block_size=1, total_size=None):\n",
    "        self.total = total_size\n",
    "        self.update((block_num - self.last_block) * block_size)\n",
    "        self.last_block = block_num\n",
    "\n",
    "if not isfile('cifar-10-python.tar.gz'):\n",
    "    with DLProgress(unit='B', unit_scale=True, miniters=1, desc='CIFAR-10 Dataset') as pbar:\n",
    "        urlretrieve(\n",
    "            'https://www.cs.toronto.edu/~kriz/cifar-10-python.tar.gz',\n",
    "            'cifar-10-python.tar.gz',\n",
    "            pbar.hook)\n",
    "\n",
    "if not isdir(cifar10_dataset_folder_path):\n",
    "    with tarfile.open('cifar-10-python.tar.gz') as tar:\n",
    "        tar.extractall()\n",
    "        tar.close()\n",
    "\n",
    "\n",
    "tests.test_folder_path(cifar10_dataset_folder_path)"
   ]
  },
  {
   "cell_type": "markdown",
   "metadata": {},
   "source": [
    "## Explore the Data\n",
    "The dataset is broken into batches to prevent your machine from running out of memory.  The CIFAR-10 dataset consists of 5 batches, named `data_batch_1`, `data_batch_2`, etc.. Each batch contains the labels and images that are one of the following:\n",
    "* airplane\n",
    "* automobile\n",
    "* bird\n",
    "* cat\n",
    "* deer\n",
    "* dog\n",
    "* frog\n",
    "* horse\n",
    "* ship\n",
    "* truck\n",
    "\n",
    "Understanding a dataset is part of making predictions on the data.  Play around with the code cell below by changing the `batch_id` and `sample_id`. The `batch_id` is the id for a batch (1-5). The `sample_id` is the id for a image and label pair in the batch.\n",
    "\n",
    "Ask yourself \"What are all possible labels?\", \"What is the range of values for the image data?\", \"Are the labels in order or random?\".  Answers to questions like these will help you preprocess the data and end up with better predictions."
   ]
  },
  {
   "cell_type": "code",
   "execution_count": 3,
   "metadata": {},
   "outputs": [
    {
     "name": "stdout",
     "output_type": "stream",
     "text": [
      "\n",
      "Stats of batch 1:\n",
      "Samples: 10000\n",
      "Label Counts: {0: 1005, 1: 974, 2: 1032, 3: 1016, 4: 999, 5: 937, 6: 1030, 7: 1001, 8: 1025, 9: 981}\n",
      "First 20 Labels: [6, 9, 9, 4, 1, 1, 2, 7, 8, 3, 4, 7, 7, 2, 9, 9, 9, 3, 2, 6]\n",
      "\n",
      "Example of Image 5:\n",
      "Image - Min Value: 0 Max Value: 252\n",
      "Image - Shape: (32, 32, 3)\n",
      "Label - Label Id: 1 Name: automobile\n"
     ]
    },
    {
     "data": {
      "image/png": "[encoded data removed]",
      "text/plain": [
       "<matplotlib.figure.Figure at 0x7f44d024d550>"
      ]
     },
     "metadata": {
      "image/png": {
       "height": 250,
       "width": 253
      }
     },
     "output_type": "display_data"
    }
   ],
   "source": [
    "%matplotlib inline\n",
    "%config InlineBackend.figure_format = 'retina'\n",
    "\n",
    "import helper\n",
    "import numpy as np\n",
    "\n",
    "# Explore the dataset\n",
    "batch_id = 1\n",
    "sample_id = 5\n",
    "helper.display_stats(cifar10_dataset_folder_path, batch_id, sample_id)"
   ]
  },
  {
   "cell_type": "markdown",
   "metadata": {},
   "source": [
    "## Implement Preprocess Functions\n",
    "### Normalize\n",
    "In the cell below, implement the `normalize` function to take in image data, `x`, and return it as a normalized Numpy array. The values should be in the range of 0 to 1, inclusive.  The return object should be the same shape as `x`."
   ]
  },
  {
   "cell_type": "code",
   "execution_count": 4,
   "metadata": {},
   "outputs": [
    {
     "name": "stdout",
     "output_type": "stream",
     "text": [
      "Tests Passed\n"
     ]
    }
   ],
   "source": [
    "def normalize(x):\n",
    "    \"\"\"\n",
    "    Normalize a list of sample image data in the range of 0 to 1\n",
    "    : x: List of image data.  The image shape is (32, 32, 3)\n",
    "    : return: Numpy array of normalize data\n",
    "    \"\"\"\n",
    "    # TODO: Implement Function\n",
    "    return x/255.0\n",
    "\n",
    "\n",
    "\"\"\"\n",
    "DON'T MODIFY ANYTHING IN THIS CELL THAT IS BELOW THIS LINE\n",
    "\"\"\"\n",
    "tests.test_normalize(normalize)"
   ]
  },
  {
   "cell_type": "markdown",
   "metadata": {},
   "source": [
    "### One-hot encode\n",
    "Just like the previous code cell, you'll be implementing a function for preprocessing.  This time, you'll implement the `one_hot_encode` function. The input, `x`, are a list of labels.  Implement the function to return the list of labels as One-Hot encoded Numpy array.  The possible values for labels are 0 to 9. The one-hot encoding function should return the same encoding for each value between each call to `one_hot_encode`.  Make sure to save the map of encodings outside the function.\n",
    "\n",
    "**Hint:**\n",
    "\n",
    "Look into LabelBinarizer in the preprocessing module of sklearn."
   ]
  },
  {
   "cell_type": "code",
   "execution_count": 5,
   "metadata": {},
   "outputs": [
    {
     "name": "stdout",
     "output_type": "stream",
     "text": [
      "Tests Passed\n"
     ]
    }
   ],
   "source": [
    "def one_hot_encode(x):\n",
    "    \"\"\"\n",
    "    One hot encode a list of sample labels. Return a one-hot encoded vector for each label.\n",
    "    : x: List of sample Labels\n",
    "    : return: Numpy array of one-hot encoded labels\n",
    "    \"\"\"\n",
    "    # TODO: Implement Function\n",
    "    from sklearn.preprocessing import LabelBinarizer\n",
    "    lb = LabelBinarizer().fit(range(10))\n",
    "    return lb.transform(x)\n",
    "\n",
    "\n",
    "\"\"\"\n",
    "DON'T MODIFY ANYTHING IN THIS CELL THAT IS BELOW THIS LINE\n",
    "\"\"\"\n",
    "tests.test_one_hot_encode(one_hot_encode)"
   ]
  },
  {
   "cell_type": "markdown",
   "metadata": {},
   "source": [
    "### Randomize Data\n",
    "As you saw from exploring the data above, the order of the samples are randomized.  It doesn't hurt to randomize it again, but you don't need to for this dataset."
   ]
  },
  {
   "cell_type": "markdown",
   "metadata": {},
   "source": [
    "## Preprocess all the data and save it\n",
    "Running the code cell below will preprocess all the CIFAR-10 data and save it to file. The code below also uses 10% of the training data for validation."
   ]
  },
  {
   "cell_type": "code",
   "execution_count": 6,
   "metadata": {},
   "outputs": [],
   "source": [
    "\"\"\"\n",
    "DON'T MODIFY ANYTHING IN THIS CELL\n",
    "\"\"\"\n",
    "# Preprocess Training, Validation, and Testing Data\n",
    "helper.preprocess_and_save_data(cifar10_dataset_folder_path, normalize, one_hot_encode)"
   ]
  },
  {
   "cell_type": "markdown",
   "metadata": {},
   "source": [
    "# Check Point\n",
    "This is your first checkpoint.  If you ever decide to come back to this notebook or have to restart the notebook, you can start from here.  The preprocessed data has been saved to disk."
   ]
  },
  {
   "cell_type": "code",
   "execution_count": 7,
   "metadata": {},
   "outputs": [],
   "source": [
    "\"\"\"\n",
    "DON'T MODIFY ANYTHING IN THIS CELL\n",
    "\"\"\"\n",
    "import pickle\n",
    "import problem_unittests as tests\n",
    "import helper\n",
    "\n",
    "# Load the Preprocessed Validation data\n",
    "valid_features, valid_labels = pickle.load(open('preprocess_validation.p', mode='rb'))"
   ]
  },
  {
   "cell_type": "markdown",
   "metadata": {},
   "source": [
    "## Build the network\n",
    "For the neural network, you'll build each layer into a function.  Most of the code you've seen has been outside of functions. To test your code more thoroughly, we require that you put each layer in a function.  This allows us to give you better feedback and test for simple mistakes using our unittests before you submit your project.\n",
    "\n",
    ">**Note:** If you're finding it hard to dedicate enough time for this course each week, we've provided a small shortcut to this part of the project. In the next couple of problems, you'll have the option to use classes from the [TensorFlow Layers](https://www.tensorflow.org/api_docs/python/tf/layers) or [TensorFlow Layers (contrib)](https://www.tensorflow.org/api_guides/python/contrib.layers) packages to build each layer, except the layers you build in the \"Convolutional and Max Pooling Layer\" section.  TF Layers is similar to Keras's and TFLearn's abstraction to layers, so it's easy to pickup.\n",
    "\n",
    ">However, if you would like to get the most out of this course, try to solve all the problems _without_ using anything from the TF Layers packages. You **can** still use classes from other packages that happen to have the same name as ones you find in TF Layers! For example, instead of using the TF Layers version of the `conv2d` class, [tf.layers.conv2d](https://www.tensorflow.org/api_docs/python/tf/layers/conv2d), you would want to use the TF Neural Network version of `conv2d`, [tf.nn.conv2d](https://www.tensorflow.org/api_docs/python/tf/nn/conv2d). \n",
    "\n",
    "Let's begin!\n",
    "\n",
    "### Input\n",
    "The neural network needs to read the image data, one-hot encoded labels, and dropout keep probability. Implement the following functions\n",
    "* Implement `neural_net_image_input`\n",
    " * Return a [TF Placeholder](https://www.tensorflow.org/api_docs/python/tf/placeholder)\n",
    " * Set the shape using `image_shape` with batch size set to `None`.\n",
    " * Name the TensorFlow placeholder \"x\" using the TensorFlow `name` parameter in the [TF Placeholder](https://www.tensorflow.org/api_docs/python/tf/placeholder).\n",
    "* Implement `neural_net_label_input`\n",
    " * Return a [TF Placeholder](https://www.tensorflow.org/api_docs/python/tf/placeholder)\n",
    " * Set the shape using `n_classes` with batch size set to `None`.\n",
    " * Name the TensorFlow placeholder \"y\" using the TensorFlow `name` parameter in the [TF Placeholder](https://www.tensorflow.org/api_docs/python/tf/placeholder).\n",
    "* Implement `neural_net_keep_prob_input`\n",
    " * Return a [TF Placeholder](https://www.tensorflow.org/api_docs/python/tf/placeholder) for dropout keep probability.\n",
    " * Name the TensorFlow placeholder \"keep_prob\" using the TensorFlow `name` parameter in the [TF Placeholder](https://www.tensorflow.org/api_docs/python/tf/placeholder).\n",
    "\n",
    "These names will be used at the end of the project to load your saved model.\n",
    "\n",
    "Note: `None` for shapes in TensorFlow allow for a dynamic size."
   ]
  },
  {
   "cell_type": "code",
   "execution_count": 8,
   "metadata": {},
   "outputs": [
    {
     "name": "stdout",
     "output_type": "stream",
     "text": [
      "Image Input Tests Passed.\n",
      "Label Input Tests Passed.\n",
      "Keep Prob Tests Passed.\n"
     ]
    }
   ],
   "source": [
    "import tensorflow as tf\n",
    "\n",
    "def neural_net_image_input(image_shape):\n",
    "    \"\"\"\n",
    "    Return a Tensor for a batch of image input\n",
    "    : image_shape: Shape of the images\n",
    "    : return: Tensor for image input.\n",
    "    \"\"\"\n",
    "    # TODO: Implement Function\n",
    "    size = (None,) + tuple(image_shape)\n",
    "    return tf.placeholder(tf.float32, shape=size, name='x')\n",
    "\n",
    "\n",
    "def neural_net_label_input(n_classes):\n",
    "    \"\"\"\n",
    "    Return a Tensor for a batch of label input\n",
    "    : n_classes: Number of classes\n",
    "    : return: Tensor for label input.\n",
    "    \"\"\"\n",
    "    # TODO: Implement Function\n",
    "    return tf.placeholder(tf.int32, shape=(None, n_classes), name='y')\n",
    "\n",
    "\n",
    "def neural_net_keep_prob_input():\n",
    "    \"\"\"\n",
    "    Return a Tensor for keep probability\n",
    "    : return: Tensor for keep probability.\n",
    "    \"\"\"\n",
    "    # TODO: Implement Function\n",
    "    return tf.placeholder(tf.float32, shape=None, name='keep_prob')\n",
    "\n",
    "\n",
    "\"\"\"\n",
    "DON'T MODIFY ANYTHING IN THIS CELL THAT IS BELOW THIS LINE\n",
    "\"\"\"\n",
    "tf.reset_default_graph()\n",
    "tests.test_nn_image_inputs(neural_net_image_input)\n",
    "tests.test_nn_label_inputs(neural_net_label_input)\n",
    "tests.test_nn_keep_prob_inputs(neural_net_keep_prob_input)"
   ]
  },
  {
   "cell_type": "markdown",
   "metadata": {},
   "source": [
    "### Convolution and Max Pooling Layer\n",
    "Convolution layers have a lot of success with images. For this code cell, you should implement the function `conv2d_maxpool` to apply convolution then max pooling:\n",
    "* Create the weight and bias using `conv_ksize`, `conv_num_outputs` and the shape of `x_tensor`.\n",
    "* Apply a convolution to `x_tensor` using weight and `conv_strides`.\n",
    " * We recommend you use same padding, but you're welcome to use any padding.\n",
    "* Add bias\n",
    "* Add a nonlinear activation to the convolution.\n",
    "* Apply Max Pooling using `pool_ksize` and `pool_strides`.\n",
    " * We recommend you use same padding, but you're welcome to use any padding.\n",
    "\n",
    "**Note:** You **can't** use [TensorFlow Layers](https://www.tensorflow.org/api_docs/python/tf/layers) or [TensorFlow Layers (contrib)](https://www.tensorflow.org/api_guides/python/contrib.layers) for **this** layer, but you can still use TensorFlow's [Neural Network](https://www.tensorflow.org/api_docs/python/tf/nn) package. You may still use the shortcut option for all the **other** layers.\n",
    "\n",
    "** Hint: **\n",
    "\n",
    "When unpacking values as an argument in Python, look into the [unpacking](https://docs.python.org/3/tutorial/controlflow.html#unpacking-argument-lists) operator. "
   ]
  },
  {
   "cell_type": "code",
   "execution_count": 9,
   "metadata": {},
   "outputs": [
    {
     "name": "stdout",
     "output_type": "stream",
     "text": [
      "Tests Passed\n"
     ]
    }
   ],
   "source": [
    "def conv2d_maxpool(x_tensor, conv_num_outputs, conv_ksize, conv_strides, pool_ksize, pool_strides):\n",
    "    \"\"\"\n",
    "    Apply convolution then max pooling to x_tensor\n",
    "    :param x_tensor: TensorFlow Tensor\n",
    "    :param conv_num_outputs: Number of outputs for the convolutional layer\n",
    "    :param conv_ksize: kernal size 2-D Tuple for the convolutional layer\n",
    "    :param conv_strides: Stride 2-D Tuple for convolution\n",
    "    :param pool_ksize: kernal size 2-D Tuple for pool\n",
    "    :param pool_strides: Stride 2-D Tuple for pool\n",
    "    : return: A tensor that represents convolution and max pooling of x_tensor\n",
    "    \"\"\"\n",
    "    # TODO: Implement Function\n",
    "    weights_shape = (*conv_ksize,\n",
    "                     x_tensor.get_shape().as_list()[3],\n",
    "                     conv_num_outputs)\n",
    "    # print (weights_shape)\n",
    "    bias_shape = (conv_num_outputs,)\n",
    "    # print (bias_shape)\n",
    "    weights = tf.Variable(tf.random_normal(weights_shape,\n",
    "                                           stddev = 0.1))\n",
    "    bias = tf.Variable(tf.zeros(bias_shape))\n",
    "    x_tensor = tf.nn.conv2d(x_tensor,\n",
    "                            weights,\n",
    "                            strides = (1, *conv_strides, 1),\n",
    "                            padding='SAME')\n",
    "    x_tensor = tf.nn.bias_add(x_tensor,\n",
    "                              bias)\n",
    "    x_tensor = tf.nn.relu(x_tensor)\n",
    "    \n",
    "    x_tensor = tf.nn.max_pool(x_tensor,\n",
    "                              ksize=(1, *pool_ksize, 1),\n",
    "                              strides=(1, *pool_strides, 1),\n",
    "                              padding='SAME')\n",
    "    return x_tensor\n",
    "\n",
    "\n",
    "\"\"\"\n",
    "DON'T MODIFY ANYTHING IN THIS CELL THAT IS BELOW THIS LINE\n",
    "\"\"\"\n",
    "tests.test_con_pool(conv2d_maxpool)"
   ]
  },
  {
   "cell_type": "markdown",
   "metadata": {},
   "source": [
    "### Flatten Layer\n",
    "Implement the `flatten` function to change the dimension of `x_tensor` from a 4-D tensor to a 2-D tensor.  The output should be the shape (*Batch Size*, *Flattened Image Size*). Shortcut option: you can use classes from the [TensorFlow Layers](https://www.tensorflow.org/api_docs/python/tf/layers) or [TensorFlow Layers (contrib)](https://www.tensorflow.org/api_guides/python/contrib.layers) packages for this layer. For more of a challenge, only use other TensorFlow packages."
   ]
  },
  {
   "cell_type": "code",
   "execution_count": 10,
   "metadata": {},
   "outputs": [
    {
     "name": "stdout",
     "output_type": "stream",
     "text": [
      "Tests Passed\n"
     ]
    }
   ],
   "source": [
    "def flatten(x_tensor):\n",
    "    \"\"\"\n",
    "    Flatten x_tensor to (Batch Size, Flattened Image Size)\n",
    "    : x_tensor: A tensor of size (Batch Size, ...), where ... are the image dimensions.\n",
    "    : return: A tensor of size (Batch Size, Flattened Image Size).\n",
    "    \"\"\"\n",
    "    # TODO: Implement Function\n",
    "    size = np.prod(np.asarray(x_tensor.shape[1:]))\n",
    "    return tf.reshape(x_tensor, shape=(-1, size))\n",
    "\n",
    "\n",
    "\"\"\"\n",
    "DON'T MODIFY ANYTHING IN THIS CELL THAT IS BELOW THIS LINE\n",
    "\"\"\"\n",
    "tests.test_flatten(flatten)"
   ]
  },
  {
   "cell_type": "markdown",
   "metadata": {},
   "source": [
    "### Fully-Connected Layer\n",
    "Implement the `fully_conn` function to apply a fully connected layer to `x_tensor` with the shape (*Batch Size*, *num_outputs*). Shortcut option: you can use classes from the [TensorFlow Layers](https://www.tensorflow.org/api_docs/python/tf/layers) or [TensorFlow Layers (contrib)](https://www.tensorflow.org/api_guides/python/contrib.layers) packages for this layer. For more of a challenge, only use other TensorFlow packages."
   ]
  },
  {
   "cell_type": "code",
   "execution_count": 11,
   "metadata": {},
   "outputs": [
    {
     "name": "stdout",
     "output_type": "stream",
     "text": [
      "Tests Passed\n"
     ]
    }
   ],
   "source": [
    "def fully_conn(x_tensor, num_outputs):\n",
    "    \"\"\"\n",
    "    Apply a fully connected layer to x_tensor using weight and bias\n",
    "    : x_tensor: A 2-D tensor where the first dimension is batch size.\n",
    "    : num_outputs: The number of output that the new tensor should be.\n",
    "    : return: A 2-D tensor where the second dimension is num_outputs.\n",
    "    \"\"\"\n",
    "    # TODO: Implement Function\n",
    "    dense_weights_shape = (x_tensor.get_shape().as_list()[1],\n",
    "                           num_outputs)\n",
    "    dense_weights = tf.Variable(tf.random_normal(shape = dense_weights_shape,\n",
    "                                                 stddev = 0.1))\n",
    "    dense_bias_shape = (num_outputs,)\n",
    "    dense_bias = tf.Variable(tf.zeros(dense_bias_shape))\n",
    "    \n",
    "    x_tensor = tf.matmul(x_tensor, dense_weights)\n",
    "    x_tensor = tf.nn.bias_add(x_tensor, dense_bias)\n",
    "    x_tensor = tf.nn.relu(x_tensor)\n",
    "    \n",
    "    return x_tensor\n",
    "\n",
    "\n",
    "\"\"\"\n",
    "DON'T MODIFY ANYTHING IN THIS CELL THAT IS BELOW THIS LINE\n",
    "\"\"\"\n",
    "tests.test_fully_conn(fully_conn)"
   ]
  },
  {
   "cell_type": "markdown",
   "metadata": {},
   "source": [
    "### Output Layer\n",
    "Implement the `output` function to apply a fully connected layer to `x_tensor` with the shape (*Batch Size*, *num_outputs*). Shortcut option: you can use classes from the [TensorFlow Layers](https://www.tensorflow.org/api_docs/python/tf/layers) or [TensorFlow Layers (contrib)](https://www.tensorflow.org/api_guides/python/contrib.layers) packages for this layer. For more of a challenge, only use other TensorFlow packages.\n",
    "\n",
    "**Note:** Activation, softmax, or cross entropy should **not** be applied to this."
   ]
  },
  {
   "cell_type": "code",
   "execution_count": 12,
   "metadata": {},
   "outputs": [
    {
     "name": "stdout",
     "output_type": "stream",
     "text": [
      "Tests Passed\n"
     ]
    }
   ],
   "source": [
    "def output(x_tensor, num_outputs):\n",
    "    \"\"\"\n",
    "    Apply a output layer to x_tensor using weight and bias\n",
    "    : x_tensor: A 2-D tensor where the first dimension is batch size.\n",
    "    : num_outputs: The number of output that the new tensor should be.\n",
    "    : return: A 2-D tensor where the second dimension is num_outputs.\n",
    "    \"\"\"\n",
    "    # TODO: Implement Function\n",
    "    dense_weights_shape = (x_tensor.get_shape().as_list()[1],\n",
    "                           num_outputs)\n",
    "    dense_weights = tf.Variable(tf.random_normal(shape = dense_weights_shape,\n",
    "                                                 stddev = 0.1))\n",
    "    dense_bias_shape = (num_outputs,)\n",
    "    dense_bias = tf.Variable(tf.zeros(dense_bias_shape))\n",
    "    \n",
    "    x_tensor = tf.matmul(x_tensor, dense_weights)\n",
    "    x_tensor = tf.nn.bias_add(x_tensor, dense_bias)\n",
    "    \n",
    "    return x_tensor\n",
    "\n",
    "\n",
    "\"\"\"\n",
    "DON'T MODIFY ANYTHING IN THIS CELL THAT IS BELOW THIS LINE\n",
    "\"\"\"\n",
    "tests.test_output(output)"
   ]
  },
  {
   "cell_type": "markdown",
   "metadata": {},
   "source": [
    "### Create Convolutional Model\n",
    "Implement the function `conv_net` to create a convolutional neural network model. The function takes in a batch of images, `x`, and outputs logits.  Use the layers you created above to create this model:\n",
    "\n",
    "* Apply 1, 2, or 3 Convolution and Max Pool layers\n",
    "* Apply a Flatten Layer\n",
    "* Apply 1, 2, or 3 Fully Connected Layers\n",
    "* Apply an Output Layer\n",
    "* Return the output\n",
    "* Apply [TensorFlow's Dropout](https://www.tensorflow.org/api_docs/python/tf/nn/dropout) to one or more layers in the model using `keep_prob`. "
   ]
  },
  {
   "cell_type": "code",
   "execution_count": 13,
   "metadata": {},
   "outputs": [
    {
     "name": "stdout",
     "output_type": "stream",
     "text": [
      "Neural Network Built!\n"
     ]
    }
   ],
   "source": [
    "def conv_net(x, keep_prob):\n",
    "    \"\"\"\n",
    "    Create a convolutional neural network model\n",
    "    : x: Placeholder tensor that holds image data.\n",
    "    : keep_prob: Placeholder tensor that hold dropout keep probability.\n",
    "    : return: Tensor that represents logits\n",
    "    \"\"\"\n",
    "    # TODO: Apply 1, 2, or 3 Convolution and Max Pool layers\n",
    "    #    Play around with different number of outputs, kernel size and stride\n",
    "    # Function Definition from Above:\n",
    "    #    conv2d_maxpool(x_tensor, conv_num_outputs, conv_ksize, conv_strides, pool_ksize, pool_strides)\n",
    "    \n",
    "\n",
    "    # TODO: Apply a Flatten Layer\n",
    "    # Function Definition from Above:\n",
    "    #   flatten(x_tensor)\n",
    "    \n",
    "\n",
    "    # TODO: Apply 1, 2, or 3 Fully Connected Layers\n",
    "    #    Play around with different number of outputs\n",
    "    # Function Definition from Above:\n",
    "    #   fully_conn(x_tensor, num_outputs)\n",
    "    \n",
    "    \n",
    "    # TODO: Apply an Output Layer\n",
    "    #    Set this to the number of classes\n",
    "    # Function Definition from Above:\n",
    "    #   output(x_tensor, num_outputs)\n",
    "    \n",
    "    \n",
    "    # TODO: return output\n",
    "    x = conv2d_maxpool(x, 64, (5,5), (1,1), (3,3), (2,2))\n",
    "    x = conv2d_maxpool(x, 32, (5,5), (1,1), (2,2), (2,2))\n",
    "    x = conv2d_maxpool(x, 32, (5,5), (1,1), (2,2), (2,2))\n",
    "    x = flatten(x)\n",
    "    x = fully_conn(x, 128)\n",
    "    x = tf.nn.dropout(x, keep_prob=keep_prob)\n",
    "    x = fully_conn(x, 64)\n",
    "    x = tf.nn.dropout(x, keep_prob=keep_prob)\n",
    "    x = output(x, 10)\n",
    "    return x\n",
    "\n",
    "\n",
    "\"\"\"\n",
    "DON'T MODIFY ANYTHING IN THIS CELL THAT IS BELOW THIS LINE\n",
    "\"\"\"\n",
    "\n",
    "##############################\n",
    "## Build the Neural Network ##\n",
    "##############################\n",
    "\n",
    "# Remove previous weights, bias, inputs, etc..\n",
    "tf.reset_default_graph()\n",
    "\n",
    "# Inputs\n",
    "x = neural_net_image_input((32, 32, 3))\n",
    "y = neural_net_label_input(10)\n",
    "keep_prob = neural_net_keep_prob_input()\n",
    "\n",
    "# Model\n",
    "logits = conv_net(x, keep_prob)\n",
    "\n",
    "# Name logits Tensor, so that is can be loaded from disk after training\n",
    "logits = tf.identity(logits, name='logits')\n",
    "\n",
    "# Loss and Optimizer\n",
    "cost = tf.reduce_mean(tf.nn.softmax_cross_entropy_with_logits(logits=logits, labels=y))\n",
    "optimizer = tf.train.AdamOptimizer().minimize(cost)\n",
    "\n",
    "# Accuracy\n",
    "correct_pred = tf.equal(tf.argmax(logits, 1), tf.argmax(y, 1))\n",
    "accuracy = tf.reduce_mean(tf.cast(correct_pred, tf.float32), name='accuracy')\n",
    "\n",
    "tests.test_conv_net(conv_net)"
   ]
  },
  {
   "cell_type": "markdown",
   "metadata": {},
   "source": [
    "## Train the Neural Network\n",
    "### Single Optimization\n",
    "Implement the function `train_neural_network` to do a single optimization.  The optimization should use `optimizer` to optimize in `session` with a `feed_dict` of the following:\n",
    "* `x` for image input\n",
    "* `y` for labels\n",
    "* `keep_prob` for keep probability for dropout\n",
    "\n",
    "This function will be called for each batch, so `tf.global_variables_initializer()` has already been called.\n",
    "\n",
    "Note: Nothing needs to be returned. This function is only optimizing the neural network."
   ]
  },
  {
   "cell_type": "code",
   "execution_count": 14,
   "metadata": {},
   "outputs": [
    {
     "name": "stdout",
     "output_type": "stream",
     "text": [
      "Tests Passed\n"
     ]
    }
   ],
   "source": [
    "def train_neural_network(session, optimizer, keep_probability, feature_batch, label_batch):\n",
    "    \"\"\"\n",
    "    Optimize the session on a batch of images and labels\n",
    "    : session: Current TensorFlow session\n",
    "    : optimizer: TensorFlow optimizer function\n",
    "    : keep_probability: keep probability\n",
    "    : feature_batch: Batch of Numpy image data\n",
    "    : label_batch: Batch of Numpy label data\n",
    "    \"\"\"\n",
    "    # TODO: Implement Function\n",
    "    session.run(optimizer, feed_dict = {x : feature_batch,\n",
    "                                        y : label_batch,\n",
    "                                        keep_prob : keep_probability})\n",
    "\n",
    "\n",
    "\"\"\"\n",
    "DON'T MODIFY ANYTHING IN THIS CELL THAT IS BELOW THIS LINE\n",
    "\"\"\"\n",
    "tests.test_train_nn(train_neural_network)"
   ]
  },
  {
   "cell_type": "markdown",
   "metadata": {},
   "source": [
    "### Show Stats\n",
    "Implement the function `print_stats` to print loss and validation accuracy.  Use the global variables `valid_features` and `valid_labels` to calculate validation accuracy.  Use a keep probability of `1.0` to calculate the loss and validation accuracy."
   ]
  },
  {
   "cell_type": "code",
   "execution_count": 15,
   "metadata": {},
   "outputs": [],
   "source": [
    "def print_stats(session, feature_batch, label_batch, cost, accuracy):\n",
    "    \"\"\"\n",
    "    Print information about loss and validation accuracy\n",
    "    : session: Current TensorFlow session\n",
    "    : feature_batch: Batch of Numpy image data\n",
    "    : label_batch: Batch of Numpy label data\n",
    "    : cost: TensorFlow cost function\n",
    "    : accuracy: TensorFlow accuracy function\n",
    "    \"\"\"\n",
    "    # TODO: Implement Function\n",
    "    loss = session.run(cost, feed_dict = {x : feature_batch,\n",
    "                                          y : label_batch,\n",
    "                                          keep_prob : 1.0})\n",
    "    acc = session.run(accuracy, feed_dict = {x : valid_features,\n",
    "                                             y : valid_labels,\n",
    "                                             keep_prob : 1.0})\n",
    "    print(\"LOSS : {0}\\tACCURACY : {1}\".format(loss, acc))"
   ]
  },
  {
   "cell_type": "markdown",
   "metadata": {},
   "source": [
    "### Hyperparameters\n",
    "Tune the following parameters:\n",
    "* Set `epochs` to the number of iterations until the network stops learning or start overfitting\n",
    "* Set `batch_size` to the highest number that your machine has memory for.  Most people set them to common sizes of memory:\n",
    " * 64\n",
    " * 128\n",
    " * 256\n",
    " * ...\n",
    "* Set `keep_probability` to the probability of keeping a node using dropout"
   ]
  },
  {
   "cell_type": "code",
   "execution_count": 16,
   "metadata": {},
   "outputs": [],
   "source": [
    "# TODO: Tune Parameters\n",
    "epochs = 40\n",
    "batch_size = 256\n",
    "keep_probability = 0.778"
   ]
  },
  {
   "cell_type": "markdown",
   "metadata": {},
   "source": [
    "### Train on a Single CIFAR-10 Batch\n",
    "Instead of training the neural network on all the CIFAR-10 batches of data, let's use a single batch. This should save time while you iterate on the model to get a better accuracy.  Once the final validation accuracy is 50% or greater, run the model on all the data in the next section."
   ]
  },
  {
   "cell_type": "code",
   "execution_count": 17,
   "metadata": {
    "scrolled": false
   },
   "outputs": [
    {
     "name": "stdout",
     "output_type": "stream",
     "text": [
      "Checking the Training on a Single Batch...\n",
      "Epoch  1, CIFAR-10 Batch 1:  LOSS : 2.2418723106384277\tACCURACY : 0.19439999759197235\n",
      "Epoch  2, CIFAR-10 Batch 1:  LOSS : 2.0018515586853027\tACCURACY : 0.35040000081062317\n",
      "Epoch  3, CIFAR-10 Batch 1:  LOSS : 1.805562973022461\tACCURACY : 0.3871999979019165\n",
      "Epoch  4, CIFAR-10 Batch 1:  LOSS : 1.5665905475616455\tACCURACY : 0.4244000017642975\n",
      "Epoch  5, CIFAR-10 Batch 1:  LOSS : 1.4167085886001587\tACCURACY : 0.43880000710487366\n",
      "Epoch  6, CIFAR-10 Batch 1:  LOSS : 1.308790683746338\tACCURACY : 0.46959999203681946\n",
      "Epoch  7, CIFAR-10 Batch 1:  LOSS : 1.1457887887954712\tACCURACY : 0.48399999737739563\n",
      "Epoch  8, CIFAR-10 Batch 1:  LOSS : 1.02964448928833\tACCURACY : 0.4837999939918518\n",
      "Epoch  9, CIFAR-10 Batch 1:  LOSS : 0.9765186309814453\tACCURACY : 0.477400004863739\n",
      "Epoch 10, CIFAR-10 Batch 1:  LOSS : 0.8932644128799438\tACCURACY : 0.5080000162124634\n",
      "Epoch 11, CIFAR-10 Batch 1:  LOSS : 0.8675238490104675\tACCURACY : 0.5067999958992004\n",
      "Epoch 12, CIFAR-10 Batch 1:  LOSS : 0.7543469667434692\tACCURACY : 0.4941999912261963\n",
      "Epoch 13, CIFAR-10 Batch 1:  LOSS : 0.6632984280586243\tACCURACY : 0.5296000242233276\n",
      "Epoch 14, CIFAR-10 Batch 1:  LOSS : 0.6520522832870483\tACCURACY : 0.5181999802589417\n",
      "Epoch 15, CIFAR-10 Batch 1:  LOSS : 0.5827385187149048\tACCURACY : 0.5342000126838684\n",
      "Epoch 16, CIFAR-10 Batch 1:  LOSS : 0.4976767599582672\tACCURACY : 0.5324000120162964\n",
      "Epoch 17, CIFAR-10 Batch 1:  LOSS : 0.4713452458381653\tACCURACY : 0.5529999732971191\n",
      "Epoch 18, CIFAR-10 Batch 1:  LOSS : 0.4144652783870697\tACCURACY : 0.5601999759674072\n",
      "Epoch 19, CIFAR-10 Batch 1:  LOSS : 0.42336010932922363\tACCURACY : 0.5559999942779541\n",
      "Epoch 20, CIFAR-10 Batch 1:  LOSS : 0.3459469676017761\tACCURACY : 0.5680000185966492\n",
      "Epoch 21, CIFAR-10 Batch 1:  LOSS : 0.3642524778842926\tACCURACY : 0.557200014591217\n",
      "Epoch 22, CIFAR-10 Batch 1:  LOSS : 0.30316734313964844\tACCURACY : 0.5626000165939331\n",
      "Epoch 23, CIFAR-10 Batch 1:  LOSS : 0.329816997051239\tACCURACY : 0.5644000172615051\n",
      "Epoch 24, CIFAR-10 Batch 1:  LOSS : 0.3522542119026184\tACCURACY : 0.5547999739646912\n",
      "Epoch 25, CIFAR-10 Batch 1:  LOSS : 0.30737507343292236\tACCURACY : 0.5576000213623047\n",
      "Epoch 26, CIFAR-10 Batch 1:  LOSS : 0.24383759498596191\tACCURACY : 0.5577999949455261\n",
      "Epoch 27, CIFAR-10 Batch 1:  LOSS : 0.24460792541503906\tACCURACY : 0.5342000126838684\n",
      "Epoch 28, CIFAR-10 Batch 1:  LOSS : 0.25502437353134155\tACCURACY : 0.5386000275611877\n",
      "Epoch 29, CIFAR-10 Batch 1:  LOSS : 0.20492973923683167\tACCURACY : 0.5490000247955322\n",
      "Epoch 30, CIFAR-10 Batch 1:  LOSS : 0.18737974762916565\tACCURACY : 0.5645999908447266\n",
      "Epoch 31, CIFAR-10 Batch 1:  LOSS : 0.16960133612155914\tACCURACY : 0.5813999772071838\n",
      "Epoch 32, CIFAR-10 Batch 1:  LOSS : 0.1527177393436432\tACCURACY : 0.5748000144958496\n",
      "Epoch 33, CIFAR-10 Batch 1:  LOSS : 0.18144555389881134\tACCURACY : 0.5687999725341797\n",
      "Epoch 34, CIFAR-10 Batch 1:  LOSS : 0.13379889726638794\tACCURACY : 0.5753999948501587\n",
      "Epoch 35, CIFAR-10 Batch 1:  LOSS : 0.11686845123767853\tACCURACY : 0.5641999840736389\n",
      "Epoch 36, CIFAR-10 Batch 1:  LOSS : 0.07141324132680893\tACCURACY : 0.5849999785423279\n",
      "Epoch 37, CIFAR-10 Batch 1:  LOSS : 0.07405763864517212\tACCURACY : 0.5817999839782715\n",
      "Epoch 38, CIFAR-10 Batch 1:  LOSS : 0.07323189824819565\tACCURACY : 0.5655999779701233\n",
      "Epoch 39, CIFAR-10 Batch 1:  LOSS : 0.06061108037829399\tACCURACY : 0.5669999718666077\n",
      "Epoch 40, CIFAR-10 Batch 1:  LOSS : 0.05859299749135971\tACCURACY : 0.5676000118255615\n"
     ]
    }
   ],
   "source": [
    "\"\"\"\n",
    "DON'T MODIFY ANYTHING IN THIS CELL\n",
    "\"\"\"\n",
    "print('Checking the Training on a Single Batch...')\n",
    "with tf.Session() as sess:\n",
    "    # Initializing the variables\n",
    "    sess.run(tf.global_variables_initializer())\n",
    "    \n",
    "    # Training cycle\n",
    "    for epoch in range(epochs):\n",
    "        batch_i = 1\n",
    "        for batch_features, batch_labels in helper.load_preprocess_training_batch(batch_i, batch_size):\n",
    "            train_neural_network(sess, optimizer, keep_probability, batch_features, batch_labels)\n",
    "        print('Epoch {:>2}, CIFAR-10 Batch {}:  '.format(epoch + 1, batch_i), end='')\n",
    "        print_stats(sess, batch_features, batch_labels, cost, accuracy)"
   ]
  },
  {
   "cell_type": "markdown",
   "metadata": {},
   "source": [
    "### Fully Train the Model\n",
    "Now that you got a good accuracy with a single CIFAR-10 batch, try it with all five batches."
   ]
  },
  {
   "cell_type": "code",
   "execution_count": 18,
   "metadata": {
    "scrolled": true
   },
   "outputs": [
    {
     "name": "stdout",
     "output_type": "stream",
     "text": [
      "Training...\n",
      "Epoch  1, CIFAR-10 Batch 1:  LOSS : 2.149146318435669\tACCURACY : 0.2685999870300293\n",
      "Epoch  1, CIFAR-10 Batch 2:  LOSS : 1.9215099811553955\tACCURACY : 0.3206000030040741\n",
      "Epoch  1, CIFAR-10 Batch 3:  LOSS : 1.5294727087020874\tACCURACY : 0.3986000120639801\n",
      "Epoch  1, CIFAR-10 Batch 4:  LOSS : 1.549861192703247\tACCURACY : 0.43619999289512634\n",
      "Epoch  1, CIFAR-10 Batch 5:  LOSS : 1.5739290714263916\tACCURACY : 0.4449999928474426\n",
      "Epoch  2, CIFAR-10 Batch 1:  LOSS : 1.5804846286773682\tACCURACY : 0.46880000829696655\n",
      "Epoch  2, CIFAR-10 Batch 2:  LOSS : 1.567171335220337\tACCURACY : 0.46000000834465027\n",
      "Epoch  2, CIFAR-10 Batch 3:  LOSS : 1.113805890083313\tACCURACY : 0.4837999939918518\n",
      "Epoch  2, CIFAR-10 Batch 4:  LOSS : 1.2958753108978271\tACCURACY : 0.4830000102519989\n",
      "Epoch  2, CIFAR-10 Batch 5:  LOSS : 1.2722527980804443\tACCURACY : 0.49459999799728394\n",
      "Epoch  3, CIFAR-10 Batch 1:  LOSS : 1.2969427108764648\tACCURACY : 0.5156000256538391\n",
      "Epoch  3, CIFAR-10 Batch 2:  LOSS : 1.335458755493164\tACCURACY : 0.5189999938011169\n",
      "Epoch  3, CIFAR-10 Batch 3:  LOSS : 0.9768047332763672\tACCURACY : 0.5246000289916992\n",
      "Epoch  3, CIFAR-10 Batch 4:  LOSS : 1.0964422225952148\tACCURACY : 0.5271999835968018\n",
      "Epoch  3, CIFAR-10 Batch 5:  LOSS : 1.1754300594329834\tACCURACY : 0.5320000052452087\n",
      "Epoch  4, CIFAR-10 Batch 1:  LOSS : 1.0572396516799927\tACCURACY : 0.5383999943733215\n",
      "Epoch  4, CIFAR-10 Batch 2:  LOSS : 1.158339023590088\tACCURACY : 0.5468000173568726\n",
      "Epoch  4, CIFAR-10 Batch 3:  LOSS : 0.9060422778129578\tACCURACY : 0.5383999943733215\n",
      "Epoch  4, CIFAR-10 Batch 4:  LOSS : 1.0091619491577148\tACCURACY : 0.545799970626831\n",
      "Epoch  4, CIFAR-10 Batch 5:  LOSS : 1.0018739700317383\tACCURACY : 0.5684000253677368\n",
      "Epoch  5, CIFAR-10 Batch 1:  LOSS : 0.9317054748535156\tACCURACY : 0.5568000078201294\n",
      "Epoch  5, CIFAR-10 Batch 2:  LOSS : 0.9261654615402222\tACCURACY : 0.5759999752044678\n",
      "Epoch  5, CIFAR-10 Batch 3:  LOSS : 0.7633079290390015\tACCURACY : 0.571399986743927\n",
      "Epoch  5, CIFAR-10 Batch 4:  LOSS : 0.9396495819091797\tACCURACY : 0.5795999765396118\n",
      "Epoch  5, CIFAR-10 Batch 5:  LOSS : 0.9207841753959656\tACCURACY : 0.5935999751091003\n",
      "Epoch  6, CIFAR-10 Batch 1:  LOSS : 0.8008493185043335\tACCURACY : 0.5699999928474426\n",
      "Epoch  6, CIFAR-10 Batch 2:  LOSS : 0.8487585783004761\tACCURACY : 0.5827999711036682\n",
      "Epoch  6, CIFAR-10 Batch 3:  LOSS : 0.6315139532089233\tACCURACY : 0.6028000116348267\n",
      "Epoch  6, CIFAR-10 Batch 4:  LOSS : 0.8008965253829956\tACCURACY : 0.6140000224113464\n",
      "Epoch  6, CIFAR-10 Batch 5:  LOSS : 0.8185535669326782\tACCURACY : 0.5892000198364258\n",
      "Epoch  7, CIFAR-10 Batch 1:  LOSS : 0.756646990776062\tACCURACY : 0.592199981212616\n",
      "Epoch  7, CIFAR-10 Batch 2:  LOSS : 0.7116211652755737\tACCURACY : 0.6078000068664551\n",
      "Epoch  7, CIFAR-10 Batch 3:  LOSS : 0.563175618648529\tACCURACY : 0.6151999831199646\n",
      "Epoch  7, CIFAR-10 Batch 4:  LOSS : 0.6575729250907898\tACCURACY : 0.6377999782562256\n",
      "Epoch  7, CIFAR-10 Batch 5:  LOSS : 0.6937530040740967\tACCURACY : 0.6251999735832214\n",
      "Epoch  8, CIFAR-10 Batch 1:  LOSS : 0.6344060301780701\tACCURACY : 0.6248000264167786\n",
      "Epoch  8, CIFAR-10 Batch 2:  LOSS : 0.5845053791999817\tACCURACY : 0.6205999851226807\n",
      "Epoch  8, CIFAR-10 Batch 3:  LOSS : 0.4436073303222656\tACCURACY : 0.6399999856948853\n",
      "Epoch  8, CIFAR-10 Batch 4:  LOSS : 0.5740326642990112\tACCURACY : 0.6359999775886536\n",
      "Epoch  8, CIFAR-10 Batch 5:  LOSS : 0.5969191789627075\tACCURACY : 0.6376000046730042\n",
      "Epoch  9, CIFAR-10 Batch 1:  LOSS : 0.5456815958023071\tACCURACY : 0.6326000094413757\n",
      "Epoch  9, CIFAR-10 Batch 2:  LOSS : 0.5145153403282166\tACCURACY : 0.6460000276565552\n",
      "Epoch  9, CIFAR-10 Batch 3:  LOSS : 0.4444502294063568\tACCURACY : 0.6373999714851379\n",
      "Epoch  9, CIFAR-10 Batch 4:  LOSS : 0.5129557251930237\tACCURACY : 0.6453999876976013\n",
      "Epoch  9, CIFAR-10 Batch 5:  LOSS : 0.4941619038581848\tACCURACY : 0.6570000052452087\n",
      "Epoch 10, CIFAR-10 Batch 1:  LOSS : 0.49972933530807495\tACCURACY : 0.6534000039100647\n",
      "Epoch 10, CIFAR-10 Batch 2:  LOSS : 0.4838751256465912\tACCURACY : 0.6496000289916992\n",
      "Epoch 10, CIFAR-10 Batch 3:  LOSS : 0.3665901720523834\tACCURACY : 0.6517999768257141\n",
      "Epoch 10, CIFAR-10 Batch 4:  LOSS : 0.4435635209083557\tACCURACY : 0.6452000141143799\n",
      "Epoch 10, CIFAR-10 Batch 5:  LOSS : 0.41915860772132874\tACCURACY : 0.6579999923706055\n",
      "Epoch 11, CIFAR-10 Batch 1:  LOSS : 0.4814074635505676\tACCURACY : 0.6442000269889832\n",
      "Epoch 11, CIFAR-10 Batch 2:  LOSS : 0.3557465076446533\tACCURACY : 0.6528000235557556\n",
      "Epoch 11, CIFAR-10 Batch 3:  LOSS : 0.3309086561203003\tACCURACY : 0.6656000018119812\n",
      "Epoch 11, CIFAR-10 Batch 4:  LOSS : 0.4239650368690491\tACCURACY : 0.6665999889373779\n",
      "Epoch 11, CIFAR-10 Batch 5:  LOSS : 0.35006654262542725\tACCURACY : 0.6678000092506409\n",
      "Epoch 12, CIFAR-10 Batch 1:  LOSS : 0.4034000039100647\tACCURACY : 0.6725999712944031\n",
      "Epoch 12, CIFAR-10 Batch 2:  LOSS : 0.3236897885799408\tACCURACY : 0.6575999855995178\n",
      "Epoch 12, CIFAR-10 Batch 3:  LOSS : 0.2751381993293762\tACCURACY : 0.6722000241279602\n",
      "Epoch 12, CIFAR-10 Batch 4:  LOSS : 0.3524162769317627\tACCURACY : 0.6593999862670898\n",
      "Epoch 12, CIFAR-10 Batch 5:  LOSS : 0.3026992082595825\tACCURACY : 0.6782000064849854\n",
      "Epoch 13, CIFAR-10 Batch 1:  LOSS : 0.37866783142089844\tACCURACY : 0.6643999814987183\n",
      "Epoch 13, CIFAR-10 Batch 2:  LOSS : 0.293730765581131\tACCURACY : 0.6579999923706055\n",
      "Epoch 13, CIFAR-10 Batch 3:  LOSS : 0.22317691147327423\tACCURACY : 0.6797999739646912\n",
      "Epoch 13, CIFAR-10 Batch 4:  LOSS : 0.29724860191345215\tACCURACY : 0.6801999807357788\n",
      "Epoch 13, CIFAR-10 Batch 5:  LOSS : 0.26677393913269043\tACCURACY : 0.6791999936103821\n",
      "Epoch 14, CIFAR-10 Batch 1:  LOSS : 0.3456159830093384\tACCURACY : 0.6877999901771545\n",
      "Epoch 14, CIFAR-10 Batch 2:  LOSS : 0.24345450103282928\tACCURACY : 0.6660000085830688\n",
      "Epoch 14, CIFAR-10 Batch 3:  LOSS : 0.21978428959846497\tACCURACY : 0.6765999794006348\n",
      "Epoch 14, CIFAR-10 Batch 4:  LOSS : 0.28317636251449585\tACCURACY : 0.6693999767303467\n",
      "Epoch 14, CIFAR-10 Batch 5:  LOSS : 0.23495236039161682\tACCURACY : 0.6722000241279602\n",
      "Epoch 15, CIFAR-10 Batch 1:  LOSS : 0.2809169292449951\tACCURACY : 0.6801999807357788\n",
      "Epoch 15, CIFAR-10 Batch 2:  LOSS : 0.25498634576797485\tACCURACY : 0.6669999957084656\n",
      "Epoch 15, CIFAR-10 Batch 3:  LOSS : 0.2591736614704132\tACCURACY : 0.6732000112533569\n",
      "Epoch 15, CIFAR-10 Batch 4:  LOSS : 0.27257606387138367\tACCURACY : 0.6621999740600586\n",
      "Epoch 15, CIFAR-10 Batch 5:  LOSS : 0.2322814017534256\tACCURACY : 0.6783999800682068\n",
      "Epoch 16, CIFAR-10 Batch 1:  LOSS : 0.2775808274745941\tACCURACY : 0.6736000180244446\n",
      "Epoch 16, CIFAR-10 Batch 2:  LOSS : 0.20995044708251953\tACCURACY : 0.6787999868392944\n",
      "Epoch 16, CIFAR-10 Batch 3:  LOSS : 0.19817063212394714\tACCURACY : 0.6844000220298767\n",
      "Epoch 16, CIFAR-10 Batch 4:  LOSS : 0.2645900845527649\tACCURACY : 0.6741999983787537\n",
      "Epoch 16, CIFAR-10 Batch 5:  LOSS : 0.22474782168865204\tACCURACY : 0.6783999800682068\n",
      "Epoch 17, CIFAR-10 Batch 1:  LOSS : 0.2286674976348877\tACCURACY : 0.6818000078201294\n",
      "Epoch 17, CIFAR-10 Batch 2:  LOSS : 0.23549985885620117\tACCURACY : 0.6773999929428101\n",
      "Epoch 17, CIFAR-10 Batch 3:  LOSS : 0.2354075163602829\tACCURACY : 0.6588000059127808\n",
      "Epoch 17, CIFAR-10 Batch 4:  LOSS : 0.18757504224777222\tACCURACY : 0.6851999759674072\n",
      "Epoch 17, CIFAR-10 Batch 5:  LOSS : 0.22861714661121368\tACCURACY : 0.6692000031471252\n",
      "Epoch 18, CIFAR-10 Batch 1:  LOSS : 0.22984549403190613\tACCURACY : 0.6805999875068665\n",
      "Epoch 18, CIFAR-10 Batch 2:  LOSS : 0.14519360661506653\tACCURACY : 0.6809999942779541\n",
      "Epoch 18, CIFAR-10 Batch 3:  LOSS : 0.19611358642578125\tACCURACY : 0.6890000104904175\n",
      "Epoch 18, CIFAR-10 Batch 4:  LOSS : 0.1744222193956375\tACCURACY : 0.6898000240325928\n",
      "Epoch 18, CIFAR-10 Batch 5:  LOSS : 0.16630128026008606\tACCURACY : 0.678600013256073\n",
      "Epoch 19, CIFAR-10 Batch 1:  LOSS : 0.20792844891548157\tACCURACY : 0.6624000072479248\n",
      "Epoch 19, CIFAR-10 Batch 2:  LOSS : 0.1733807474374771\tACCURACY : 0.6919999718666077\n",
      "Epoch 19, CIFAR-10 Batch 3:  LOSS : 0.15469536185264587\tACCURACY : 0.6741999983787537\n",
      "Epoch 19, CIFAR-10 Batch 4:  LOSS : 0.13078925013542175\tACCURACY : 0.6905999779701233\n",
      "Epoch 19, CIFAR-10 Batch 5:  LOSS : 0.15336672961711884\tACCURACY : 0.6876000165939331\n",
      "Epoch 20, CIFAR-10 Batch 1:  LOSS : 0.24278220534324646\tACCURACY : 0.6765999794006348\n",
      "Epoch 20, CIFAR-10 Batch 2:  LOSS : 0.14000122249126434\tACCURACY : 0.6851999759674072\n"
     ]
    },
    {
     "name": "stdout",
     "output_type": "stream",
     "text": [
      "Epoch 20, CIFAR-10 Batch 3:  LOSS : 0.1579439342021942\tACCURACY : 0.6705999970436096\n",
      "Epoch 20, CIFAR-10 Batch 4:  LOSS : 0.16151078045368195\tACCURACY : 0.682200014591217\n",
      "Epoch 20, CIFAR-10 Batch 5:  LOSS : 0.19368280470371246\tACCURACY : 0.6787999868392944\n",
      "Epoch 21, CIFAR-10 Batch 1:  LOSS : 0.1622031033039093\tACCURACY : 0.6922000050544739\n",
      "Epoch 21, CIFAR-10 Batch 2:  LOSS : 0.12823139131069183\tACCURACY : 0.6850000023841858\n",
      "Epoch 21, CIFAR-10 Batch 3:  LOSS : 0.13791340589523315\tACCURACY : 0.6777999997138977\n",
      "Epoch 21, CIFAR-10 Batch 4:  LOSS : 0.1386837661266327\tACCURACY : 0.6801999807357788\n",
      "Epoch 21, CIFAR-10 Batch 5:  LOSS : 0.15629634261131287\tACCURACY : 0.6845999956130981\n",
      "Epoch 22, CIFAR-10 Batch 1:  LOSS : 0.1588621437549591\tACCURACY : 0.6901999711990356\n",
      "Epoch 22, CIFAR-10 Batch 2:  LOSS : 0.12015124410390854\tACCURACY : 0.6862000226974487\n",
      "Epoch 22, CIFAR-10 Batch 3:  LOSS : 0.11252858489751816\tACCURACY : 0.6823999881744385\n",
      "Epoch 22, CIFAR-10 Batch 4:  LOSS : 0.11536071449518204\tACCURACY : 0.6959999799728394\n",
      "Epoch 22, CIFAR-10 Batch 5:  LOSS : 0.08999307453632355\tACCURACY : 0.6923999786376953\n",
      "Epoch 23, CIFAR-10 Batch 1:  LOSS : 0.1258338987827301\tACCURACY : 0.6880000233650208\n",
      "Epoch 23, CIFAR-10 Batch 2:  LOSS : 0.10382634401321411\tACCURACY : 0.6898000240325928\n",
      "Epoch 23, CIFAR-10 Batch 3:  LOSS : 0.1169273629784584\tACCURACY : 0.698199987411499\n",
      "Epoch 23, CIFAR-10 Batch 4:  LOSS : 0.09971334785223007\tACCURACY : 0.6876000165939331\n",
      "Epoch 23, CIFAR-10 Batch 5:  LOSS : 0.1070326417684555\tACCURACY : 0.7013999819755554\n",
      "Epoch 24, CIFAR-10 Batch 1:  LOSS : 0.09666471928358078\tACCURACY : 0.6868000030517578\n",
      "Epoch 24, CIFAR-10 Batch 2:  LOSS : 0.10308313369750977\tACCURACY : 0.6880000233650208\n",
      "Epoch 24, CIFAR-10 Batch 3:  LOSS : 0.08774275332689285\tACCURACY : 0.6840000152587891\n",
      "Epoch 24, CIFAR-10 Batch 4:  LOSS : 0.07155836373567581\tACCURACY : 0.6883999705314636\n",
      "Epoch 24, CIFAR-10 Batch 5:  LOSS : 0.0902491956949234\tACCURACY : 0.6880000233650208\n",
      "Epoch 25, CIFAR-10 Batch 1:  LOSS : 0.15111587941646576\tACCURACY : 0.7008000016212463\n",
      "Epoch 25, CIFAR-10 Batch 2:  LOSS : 0.07635240256786346\tACCURACY : 0.6876000165939331\n",
      "Epoch 25, CIFAR-10 Batch 3:  LOSS : 0.07488162815570831\tACCURACY : 0.6967999935150146\n",
      "Epoch 25, CIFAR-10 Batch 4:  LOSS : 0.08934042602777481\tACCURACY : 0.6869999766349792\n",
      "Epoch 25, CIFAR-10 Batch 5:  LOSS : 0.0836024060845375\tACCURACY : 0.6850000023841858\n",
      "Epoch 26, CIFAR-10 Batch 1:  LOSS : 0.10949233919382095\tACCURACY : 0.6958000063896179\n",
      "Epoch 26, CIFAR-10 Batch 2:  LOSS : 0.08791942894458771\tACCURACY : 0.6746000051498413\n",
      "Epoch 26, CIFAR-10 Batch 3:  LOSS : 0.08660154044628143\tACCURACY : 0.6876000165939331\n",
      "Epoch 26, CIFAR-10 Batch 4:  LOSS : 0.07339887320995331\tACCURACY : 0.6858000159263611\n",
      "Epoch 26, CIFAR-10 Batch 5:  LOSS : 0.09363657236099243\tACCURACY : 0.6935999989509583\n",
      "Epoch 27, CIFAR-10 Batch 1:  LOSS : 0.0813724547624588\tACCURACY : 0.6973999738693237\n",
      "Epoch 27, CIFAR-10 Batch 2:  LOSS : 0.0996810793876648\tACCURACY : 0.6876000165939331\n",
      "Epoch 27, CIFAR-10 Batch 3:  LOSS : 0.10310658067464828\tACCURACY : 0.694599986076355\n",
      "Epoch 27, CIFAR-10 Batch 4:  LOSS : 0.09246251732110977\tACCURACY : 0.6883999705314636\n",
      "Epoch 27, CIFAR-10 Batch 5:  LOSS : 0.07572041451931\tACCURACY : 0.7063999772071838\n",
      "Epoch 28, CIFAR-10 Batch 1:  LOSS : 0.10847578197717667\tACCURACY : 0.6886000037193298\n",
      "Epoch 28, CIFAR-10 Batch 2:  LOSS : 0.09062866121530533\tACCURACY : 0.6642000079154968\n",
      "Epoch 28, CIFAR-10 Batch 3:  LOSS : 0.0820503681898117\tACCURACY : 0.6837999820709229\n",
      "Epoch 28, CIFAR-10 Batch 4:  LOSS : 0.07408846169710159\tACCURACY : 0.6809999942779541\n",
      "Epoch 28, CIFAR-10 Batch 5:  LOSS : 0.10912863910198212\tACCURACY : 0.6761999726295471\n",
      "Epoch 29, CIFAR-10 Batch 1:  LOSS : 0.10659786313772202\tACCURACY : 0.6732000112533569\n",
      "Epoch 29, CIFAR-10 Batch 2:  LOSS : 0.06483589112758636\tACCURACY : 0.6851999759674072\n",
      "Epoch 29, CIFAR-10 Batch 3:  LOSS : 0.07026070356369019\tACCURACY : 0.6962000131607056\n",
      "Epoch 29, CIFAR-10 Batch 4:  LOSS : 0.07270725071430206\tACCURACY : 0.6863999962806702\n",
      "Epoch 29, CIFAR-10 Batch 5:  LOSS : 0.07039548456668854\tACCURACY : 0.6890000104904175\n",
      "Epoch 30, CIFAR-10 Batch 1:  LOSS : 0.08522645384073257\tACCURACY : 0.6899999976158142\n",
      "Epoch 30, CIFAR-10 Batch 2:  LOSS : 0.0717320591211319\tACCURACY : 0.6840000152587891\n",
      "Epoch 30, CIFAR-10 Batch 3:  LOSS : 0.042471181601285934\tACCURACY : 0.6977999806404114\n",
      "Epoch 30, CIFAR-10 Batch 4:  LOSS : 0.05597629025578499\tACCURACY : 0.6973999738693237\n",
      "Epoch 30, CIFAR-10 Batch 5:  LOSS : 0.04359796643257141\tACCURACY : 0.7008000016212463\n",
      "Epoch 31, CIFAR-10 Batch 1:  LOSS : 0.07700072228908539\tACCURACY : 0.6953999996185303\n",
      "Epoch 31, CIFAR-10 Batch 2:  LOSS : 0.06797096878290176\tACCURACY : 0.6866000294685364\n",
      "Epoch 31, CIFAR-10 Batch 3:  LOSS : 0.035370126366615295\tACCURACY : 0.7009999752044678\n",
      "Epoch 31, CIFAR-10 Batch 4:  LOSS : 0.07415474951267242\tACCURACY : 0.7006000280380249\n",
      "Epoch 31, CIFAR-10 Batch 5:  LOSS : 0.0476301833987236\tACCURACY : 0.6930000185966492\n",
      "Epoch 32, CIFAR-10 Batch 1:  LOSS : 0.08671028912067413\tACCURACY : 0.6851999759674072\n",
      "Epoch 32, CIFAR-10 Batch 2:  LOSS : 0.06897759437561035\tACCURACY : 0.6909999847412109\n",
      "Epoch 32, CIFAR-10 Batch 3:  LOSS : 0.04654562845826149\tACCURACY : 0.703000009059906\n",
      "Epoch 32, CIFAR-10 Batch 4:  LOSS : 0.04780234768986702\tACCURACY : 0.7070000171661377\n",
      "Epoch 32, CIFAR-10 Batch 5:  LOSS : 0.05541776865720749\tACCURACY : 0.6851999759674072\n",
      "Epoch 33, CIFAR-10 Batch 1:  LOSS : 0.057397909462451935\tACCURACY : 0.694599986076355\n",
      "Epoch 33, CIFAR-10 Batch 2:  LOSS : 0.06667645275592804\tACCURACY : 0.6904000043869019\n",
      "Epoch 33, CIFAR-10 Batch 3:  LOSS : 0.04717960208654404\tACCURACY : 0.6931999921798706\n",
      "Epoch 33, CIFAR-10 Batch 4:  LOSS : 0.045030418783426285\tACCURACY : 0.7034000158309937\n",
      "Epoch 33, CIFAR-10 Batch 5:  LOSS : 0.0573321096599102\tACCURACY : 0.6827999949455261\n",
      "Epoch 34, CIFAR-10 Batch 1:  LOSS : 0.06950248777866364\tACCURACY : 0.6850000023841858\n",
      "Epoch 34, CIFAR-10 Batch 2:  LOSS : 0.06377416849136353\tACCURACY : 0.6782000064849854\n",
      "Epoch 34, CIFAR-10 Batch 3:  LOSS : 0.05515450984239578\tACCURACY : 0.6913999915122986\n",
      "Epoch 34, CIFAR-10 Batch 4:  LOSS : 0.050185687839984894\tACCURACY : 0.6972000002861023\n",
      "Epoch 34, CIFAR-10 Batch 5:  LOSS : 0.041826315224170685\tACCURACY : 0.6922000050544739\n",
      "Epoch 35, CIFAR-10 Batch 1:  LOSS : 0.07574953138828278\tACCURACY : 0.6866000294685364\n",
      "Epoch 35, CIFAR-10 Batch 2:  LOSS : 0.047078151255846024\tACCURACY : 0.6827999949455261\n",
      "Epoch 35, CIFAR-10 Batch 3:  LOSS : 0.04217464476823807\tACCURACY : 0.704800009727478\n",
      "Epoch 35, CIFAR-10 Batch 4:  LOSS : 0.04103037342429161\tACCURACY : 0.6930000185966492\n",
      "Epoch 35, CIFAR-10 Batch 5:  LOSS : 0.040292300283908844\tACCURACY : 0.6877999901771545\n",
      "Epoch 36, CIFAR-10 Batch 1:  LOSS : 0.05968224257230759\tACCURACY : 0.6863999962806702\n",
      "Epoch 36, CIFAR-10 Batch 2:  LOSS : 0.09007912874221802\tACCURACY : 0.6654000282287598\n",
      "Epoch 36, CIFAR-10 Batch 3:  LOSS : 0.049226753413677216\tACCURACY : 0.6944000124931335\n",
      "Epoch 36, CIFAR-10 Batch 4:  LOSS : 0.03150421008467674\tACCURACY : 0.7027999758720398\n",
      "Epoch 36, CIFAR-10 Batch 5:  LOSS : 0.03420192748308182\tACCURACY : 0.6826000213623047\n",
      "Epoch 37, CIFAR-10 Batch 1:  LOSS : 0.03554372861981392\tACCURACY : 0.6931999921798706\n",
      "Epoch 37, CIFAR-10 Batch 2:  LOSS : 0.05645674467086792\tACCURACY : 0.6687999963760376\n",
      "Epoch 37, CIFAR-10 Batch 3:  LOSS : 0.04091920703649521\tACCURACY : 0.6881999969482422\n",
      "Epoch 37, CIFAR-10 Batch 4:  LOSS : 0.04941608011722565\tACCURACY : 0.699999988079071\n",
      "Epoch 37, CIFAR-10 Batch 5:  LOSS : 0.04772471636533737\tACCURACY : 0.676800012588501\n",
      "Epoch 38, CIFAR-10 Batch 1:  LOSS : 0.04938965290784836\tACCURACY : 0.680400013923645\n",
      "Epoch 38, CIFAR-10 Batch 2:  LOSS : 0.0593399778008461\tACCURACY : 0.6948000192642212\n",
      "Epoch 38, CIFAR-10 Batch 3:  LOSS : 0.04234357550740242\tACCURACY : 0.6908000111579895\n",
      "Epoch 38, CIFAR-10 Batch 4:  LOSS : 0.02834920957684517\tACCURACY : 0.7008000016212463\n",
      "Epoch 38, CIFAR-10 Batch 5:  LOSS : 0.024388033896684647\tACCURACY : 0.6832000017166138\n",
      "Epoch 39, CIFAR-10 Batch 1:  LOSS : 0.0406525656580925\tACCURACY : 0.6940000057220459\n",
      "Epoch 39, CIFAR-10 Batch 2:  LOSS : 0.0423826202750206\tACCURACY : 0.698199987411499\n",
      "Epoch 39, CIFAR-10 Batch 3:  LOSS : 0.033421650528907776\tACCURACY : 0.6934000253677368\n"
     ]
    },
    {
     "name": "stdout",
     "output_type": "stream",
     "text": [
      "Epoch 39, CIFAR-10 Batch 4:  LOSS : 0.018423814326524734\tACCURACY : 0.7009999752044678\n",
      "Epoch 39, CIFAR-10 Batch 5:  LOSS : 0.01490995567291975\tACCURACY : 0.6922000050544739\n",
      "Epoch 40, CIFAR-10 Batch 1:  LOSS : 0.029552554711699486\tACCURACY : 0.6948000192642212\n",
      "Epoch 40, CIFAR-10 Batch 2:  LOSS : 0.046996183693408966\tACCURACY : 0.6940000057220459\n",
      "Epoch 40, CIFAR-10 Batch 3:  LOSS : 0.02189437672495842\tACCURACY : 0.6886000037193298\n",
      "Epoch 40, CIFAR-10 Batch 4:  LOSS : 0.017033834010362625\tACCURACY : 0.7021999955177307\n",
      "Epoch 40, CIFAR-10 Batch 5:  LOSS : 0.028989579528570175\tACCURACY : 0.6890000104904175\n"
     ]
    }
   ],
   "source": [
    "\"\"\"\n",
    "DON'T MODIFY ANYTHING IN THIS CELL\n",
    "\"\"\"\n",
    "save_model_path = './image_classification'\n",
    "\n",
    "print('Training...')\n",
    "with tf.Session() as sess:\n",
    "    # Initializing the variables\n",
    "    sess.run(tf.global_variables_initializer())\n",
    "    \n",
    "    # Training cycle\n",
    "    for epoch in range(epochs):\n",
    "        # Loop over all batches\n",
    "        n_batches = 5\n",
    "        for batch_i in range(1, n_batches + 1):\n",
    "            for batch_features, batch_labels in helper.load_preprocess_training_batch(batch_i, batch_size):\n",
    "                train_neural_network(sess, optimizer, keep_probability, batch_features, batch_labels)\n",
    "            print('Epoch {:>2}, CIFAR-10 Batch {}:  '.format(epoch + 1, batch_i), end='')\n",
    "            print_stats(sess, batch_features, batch_labels, cost, accuracy)\n",
    "            \n",
    "    # Save Model\n",
    "    saver = tf.train.Saver()\n",
    "    save_path = saver.save(sess, save_model_path)"
   ]
  },
  {
   "cell_type": "markdown",
   "metadata": {},
   "source": [
    "# Checkpoint\n",
    "The model has been saved to disk.\n",
    "## Test Model\n",
    "Test your model against the test dataset.  This will be your final accuracy. You should have an accuracy greater than 50%. If you don't, keep tweaking the model architecture and parameters."
   ]
  },
  {
   "cell_type": "code",
   "execution_count": 19,
   "metadata": {},
   "outputs": [
    {
     "name": "stdout",
     "output_type": "stream",
     "text": [
      "INFO:tensorflow:Restoring parameters from ./image_classification\n",
      "Testing Accuracy: 0.68798828125\n",
      "\n"
     ]
    },
    {
     "data": {
      "image/png": "[encoded data removed]",
      "text/plain": [
       "<matplotlib.figure.Figure at 0x7f44d0257518>"
      ]
     },
     "metadata": {
      "image/png": {
       "height": 319,
       "width": 355
      }
     },
     "output_type": "display_data"
    }
   ],
   "source": [
    "\"\"\"\n",
    "DON'T MODIFY ANYTHING IN THIS CELL\n",
    "\"\"\"\n",
    "%matplotlib inline\n",
    "%config InlineBackend.figure_format = 'retina'\n",
    "\n",
    "import tensorflow as tf\n",
    "import pickle\n",
    "import helper\n",
    "import random\n",
    "\n",
    "# Set batch size if not already set\n",
    "try:\n",
    "    if batch_size:\n",
    "        pass\n",
    "except NameError:\n",
    "    batch_size = 64\n",
    "\n",
    "save_model_path = './image_classification'\n",
    "n_samples = 4\n",
    "top_n_predictions = 3\n",
    "\n",
    "def test_model():\n",
    "    \"\"\"\n",
    "    Test the saved model against the test dataset\n",
    "    \"\"\"\n",
    "\n",
    "    test_features, test_labels = pickle.load(open('preprocess_training.p', mode='rb'))\n",
    "    loaded_graph = tf.Graph()\n",
    "\n",
    "    with tf.Session(graph=loaded_graph) as sess:\n",
    "        # Load model\n",
    "        loader = tf.train.import_meta_graph(save_model_path + '.meta')\n",
    "        loader.restore(sess, save_model_path)\n",
    "\n",
    "        # Get Tensors from loaded model\n",
    "        loaded_x = loaded_graph.get_tensor_by_name('x:0')\n",
    "        loaded_y = loaded_graph.get_tensor_by_name('y:0')\n",
    "        loaded_keep_prob = loaded_graph.get_tensor_by_name('keep_prob:0')\n",
    "        loaded_logits = loaded_graph.get_tensor_by_name('logits:0')\n",
    "        loaded_acc = loaded_graph.get_tensor_by_name('accuracy:0')\n",
    "        \n",
    "        # Get accuracy in batches for memory limitations\n",
    "        test_batch_acc_total = 0\n",
    "        test_batch_count = 0\n",
    "        \n",
    "        for train_feature_batch, train_label_batch in helper.batch_features_labels(test_features, test_labels, batch_size):\n",
    "            test_batch_acc_total += sess.run(\n",
    "                loaded_acc,\n",
    "                feed_dict={loaded_x: train_feature_batch, loaded_y: train_label_batch, loaded_keep_prob: 1.0})\n",
    "            test_batch_count += 1\n",
    "\n",
    "        print('Testing Accuracy: {}\\n'.format(test_batch_acc_total/test_batch_count))\n",
    "\n",
    "        # Print Random Samples\n",
    "        random_test_features, random_test_labels = tuple(zip(*random.sample(list(zip(test_features, test_labels)), n_samples)))\n",
    "        random_test_predictions = sess.run(\n",
    "            tf.nn.top_k(tf.nn.softmax(loaded_logits), top_n_predictions),\n",
    "            feed_dict={loaded_x: random_test_features, loaded_y: random_test_labels, loaded_keep_prob: 1.0})\n",
    "        helper.display_image_predictions(random_test_features, random_test_labels, random_test_predictions)\n",
    "\n",
    "\n",
    "test_model()"
   ]
  },
  {
   "cell_type": "markdown",
   "metadata": {},
   "source": [
    "## Why 50-80% Accuracy?\n",
    "You might be wondering why you can't get an accuracy any higher. First things first, 50% isn't bad for a simple CNN.  Pure guessing would get you 10% accuracy. That's because there are many more techniques that can be applied to your model and we recemmond that once you are done with this project, you explore!\n",
    "\n",
    "## Submitting This Project\n",
    "When submitting this project, make sure to run all the cells before saving the notebook.  Save the notebook file as \"image_classification.ipynb\" and save it as a HTML file under \"File\" -> \"Download as\".  Include the \"helper.py\" and \"problem_unittests.py\" files in your submission."
   ]
  }
 ],
 "metadata": {
  "kernelspec": {
   "display_name": "Python 3",
   "language": "python",
   "name": "python3"
  },
  "language_info": {
   "codemirror_mode": {
    "name": "ipython",
    "version": 3
   },
   "file_extension": ".py",
   "mimetype": "text/x-python",
   "name": "python",
   "nbconvert_exporter": "python",
   "pygments_lexer": "ipython3",
   "version": "3.5.2"
  }
 },
 "nbformat": 4,
 "nbformat_minor": 1
}
